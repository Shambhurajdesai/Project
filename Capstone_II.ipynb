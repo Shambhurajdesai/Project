{
  "nbformat": 4,
  "nbformat_minor": 0,
  "metadata": {
    "colab": {
      "provenance": [],
      "authorship_tag": "ABX9TyM9yNGxKMov/A7AO+g+xjNh",
      "include_colab_link": true
    },
    "kernelspec": {
      "name": "python3",
      "display_name": "Python 3"
    },
    "language_info": {
      "name": "python"
    }
  },
  "cells": [
    {
      "cell_type": "markdown",
      "metadata": {
        "id": "view-in-github",
        "colab_type": "text"
      },
      "source": [
        "<a href=\"https://colab.research.google.com/github/Shambhurajdesai/Project/blob/main/Capstone_II.ipynb\" target=\"_parent\"><img src=\"https://colab.research.google.com/assets/colab-badge.svg\" alt=\"Open In Colab\"/></a>"
      ]
    },
    {
      "cell_type": "code",
      "execution_count": 3,
      "metadata": {
        "id": "ceMIXYPSzxVR"
      },
      "outputs": [],
      "source": [
        "# Import Libraries\n",
        "import pandas as pd\n",
        "import numpy as np\n",
        "import matplotlib.pyplot as plt\n",
        "%matplotlib inline\n",
        "import seaborn as sns\n",
        "import math"
      ]
    },
    {
      "cell_type": "code",
      "source": [
        "# Load Dataset\n",
        "from google.colab import drive\n",
        "drive.mount('/content/drive')"
      ],
      "metadata": {
        "colab": {
          "base_uri": "https://localhost:8080/"
        },
        "id": "-g1YegkPrs7D",
        "outputId": "7510f9b6-49ae-4f32-c11e-b5946282d9e7"
      },
      "execution_count": 4,
      "outputs": [
        {
          "output_type": "stream",
          "name": "stdout",
          "text": [
            "Mounted at /content/drive\n"
          ]
        }
      ]
    },
    {
      "cell_type": "code",
      "source": [
        "df = pd.read_csv('/content/drive/MyDrive/Dataset/store.csv')"
      ],
      "metadata": {
        "id": "ZUDD72CpsBvp"
      },
      "execution_count": 31,
      "outputs": []
    },
    {
      "cell_type": "code",
      "source": [
        "# Dataset First Look\n",
        "df.head(5)"
      ],
      "metadata": {
        "colab": {
          "base_uri": "https://localhost:8080/",
          "height": 270
        },
        "id": "axLKLR1XsZin",
        "outputId": "662b2564-7581-4745-ab6d-c926d1282a8f"
      },
      "execution_count": null,
      "outputs": [
        {
          "output_type": "execute_result",
          "data": {
            "text/plain": [
              "   Store StoreType Assortment  CompetitionDistance  CompetitionOpenSinceMonth  \\\n",
              "0      1         c          a               1270.0                        9.0   \n",
              "1      2         a          a                570.0                       11.0   \n",
              "2      3         a          a              14130.0                       12.0   \n",
              "3      4         c          c                620.0                        9.0   \n",
              "4      5         a          a              29910.0                        4.0   \n",
              "\n",
              "   CompetitionOpenSinceYear  Promo2  Promo2SinceWeek  Promo2SinceYear  \\\n",
              "0                    2008.0       0              NaN              NaN   \n",
              "1                    2007.0       1             13.0           2010.0   \n",
              "2                    2006.0       1             14.0           2011.0   \n",
              "3                    2009.0       0              NaN              NaN   \n",
              "4                    2015.0       0              NaN              NaN   \n",
              "\n",
              "     PromoInterval  \n",
              "0              NaN  \n",
              "1  Jan,Apr,Jul,Oct  \n",
              "2  Jan,Apr,Jul,Oct  \n",
              "3              NaN  \n",
              "4              NaN  "
            ],
            "text/html": [
              "\n",
              "  <div id=\"df-0bc4b5e5-a009-4ff4-9a79-dc6857ae94f2\">\n",
              "    <div class=\"colab-df-container\">\n",
              "      <div>\n",
              "<style scoped>\n",
              "    .dataframe tbody tr th:only-of-type {\n",
              "        vertical-align: middle;\n",
              "    }\n",
              "\n",
              "    .dataframe tbody tr th {\n",
              "        vertical-align: top;\n",
              "    }\n",
              "\n",
              "    .dataframe thead th {\n",
              "        text-align: right;\n",
              "    }\n",
              "</style>\n",
              "<table border=\"1\" class=\"dataframe\">\n",
              "  <thead>\n",
              "    <tr style=\"text-align: right;\">\n",
              "      <th></th>\n",
              "      <th>Store</th>\n",
              "      <th>StoreType</th>\n",
              "      <th>Assortment</th>\n",
              "      <th>CompetitionDistance</th>\n",
              "      <th>CompetitionOpenSinceMonth</th>\n",
              "      <th>CompetitionOpenSinceYear</th>\n",
              "      <th>Promo2</th>\n",
              "      <th>Promo2SinceWeek</th>\n",
              "      <th>Promo2SinceYear</th>\n",
              "      <th>PromoInterval</th>\n",
              "    </tr>\n",
              "  </thead>\n",
              "  <tbody>\n",
              "    <tr>\n",
              "      <th>0</th>\n",
              "      <td>1</td>\n",
              "      <td>c</td>\n",
              "      <td>a</td>\n",
              "      <td>1270.0</td>\n",
              "      <td>9.0</td>\n",
              "      <td>2008.0</td>\n",
              "      <td>0</td>\n",
              "      <td>NaN</td>\n",
              "      <td>NaN</td>\n",
              "      <td>NaN</td>\n",
              "    </tr>\n",
              "    <tr>\n",
              "      <th>1</th>\n",
              "      <td>2</td>\n",
              "      <td>a</td>\n",
              "      <td>a</td>\n",
              "      <td>570.0</td>\n",
              "      <td>11.0</td>\n",
              "      <td>2007.0</td>\n",
              "      <td>1</td>\n",
              "      <td>13.0</td>\n",
              "      <td>2010.0</td>\n",
              "      <td>Jan,Apr,Jul,Oct</td>\n",
              "    </tr>\n",
              "    <tr>\n",
              "      <th>2</th>\n",
              "      <td>3</td>\n",
              "      <td>a</td>\n",
              "      <td>a</td>\n",
              "      <td>14130.0</td>\n",
              "      <td>12.0</td>\n",
              "      <td>2006.0</td>\n",
              "      <td>1</td>\n",
              "      <td>14.0</td>\n",
              "      <td>2011.0</td>\n",
              "      <td>Jan,Apr,Jul,Oct</td>\n",
              "    </tr>\n",
              "    <tr>\n",
              "      <th>3</th>\n",
              "      <td>4</td>\n",
              "      <td>c</td>\n",
              "      <td>c</td>\n",
              "      <td>620.0</td>\n",
              "      <td>9.0</td>\n",
              "      <td>2009.0</td>\n",
              "      <td>0</td>\n",
              "      <td>NaN</td>\n",
              "      <td>NaN</td>\n",
              "      <td>NaN</td>\n",
              "    </tr>\n",
              "    <tr>\n",
              "      <th>4</th>\n",
              "      <td>5</td>\n",
              "      <td>a</td>\n",
              "      <td>a</td>\n",
              "      <td>29910.0</td>\n",
              "      <td>4.0</td>\n",
              "      <td>2015.0</td>\n",
              "      <td>0</td>\n",
              "      <td>NaN</td>\n",
              "      <td>NaN</td>\n",
              "      <td>NaN</td>\n",
              "    </tr>\n",
              "  </tbody>\n",
              "</table>\n",
              "</div>\n",
              "      <button class=\"colab-df-convert\" onclick=\"convertToInteractive('df-0bc4b5e5-a009-4ff4-9a79-dc6857ae94f2')\"\n",
              "              title=\"Convert this dataframe to an interactive table.\"\n",
              "              style=\"display:none;\">\n",
              "        \n",
              "  <svg xmlns=\"http://www.w3.org/2000/svg\" height=\"24px\"viewBox=\"0 0 24 24\"\n",
              "       width=\"24px\">\n",
              "    <path d=\"M0 0h24v24H0V0z\" fill=\"none\"/>\n",
              "    <path d=\"M18.56 5.44l.94 2.06.94-2.06 2.06-.94-2.06-.94-.94-2.06-.94 2.06-2.06.94zm-11 1L8.5 8.5l.94-2.06 2.06-.94-2.06-.94L8.5 2.5l-.94 2.06-2.06.94zm10 10l.94 2.06.94-2.06 2.06-.94-2.06-.94-.94-2.06-.94 2.06-2.06.94z\"/><path d=\"M17.41 7.96l-1.37-1.37c-.4-.4-.92-.59-1.43-.59-.52 0-1.04.2-1.43.59L10.3 9.45l-7.72 7.72c-.78.78-.78 2.05 0 2.83L4 21.41c.39.39.9.59 1.41.59.51 0 1.02-.2 1.41-.59l7.78-7.78 2.81-2.81c.8-.78.8-2.07 0-2.86zM5.41 20L4 18.59l7.72-7.72 1.47 1.35L5.41 20z\"/>\n",
              "  </svg>\n",
              "      </button>\n",
              "      \n",
              "  <style>\n",
              "    .colab-df-container {\n",
              "      display:flex;\n",
              "      flex-wrap:wrap;\n",
              "      gap: 12px;\n",
              "    }\n",
              "\n",
              "    .colab-df-convert {\n",
              "      background-color: #E8F0FE;\n",
              "      border: none;\n",
              "      border-radius: 50%;\n",
              "      cursor: pointer;\n",
              "      display: none;\n",
              "      fill: #1967D2;\n",
              "      height: 32px;\n",
              "      padding: 0 0 0 0;\n",
              "      width: 32px;\n",
              "    }\n",
              "\n",
              "    .colab-df-convert:hover {\n",
              "      background-color: #E2EBFA;\n",
              "      box-shadow: 0px 1px 2px rgba(60, 64, 67, 0.3), 0px 1px 3px 1px rgba(60, 64, 67, 0.15);\n",
              "      fill: #174EA6;\n",
              "    }\n",
              "\n",
              "    [theme=dark] .colab-df-convert {\n",
              "      background-color: #3B4455;\n",
              "      fill: #D2E3FC;\n",
              "    }\n",
              "\n",
              "    [theme=dark] .colab-df-convert:hover {\n",
              "      background-color: #434B5C;\n",
              "      box-shadow: 0px 1px 3px 1px rgba(0, 0, 0, 0.15);\n",
              "      filter: drop-shadow(0px 1px 2px rgba(0, 0, 0, 0.3));\n",
              "      fill: #FFFFFF;\n",
              "    }\n",
              "  </style>\n",
              "\n",
              "      <script>\n",
              "        const buttonEl =\n",
              "          document.querySelector('#df-0bc4b5e5-a009-4ff4-9a79-dc6857ae94f2 button.colab-df-convert');\n",
              "        buttonEl.style.display =\n",
              "          google.colab.kernel.accessAllowed ? 'block' : 'none';\n",
              "\n",
              "        async function convertToInteractive(key) {\n",
              "          const element = document.querySelector('#df-0bc4b5e5-a009-4ff4-9a79-dc6857ae94f2');\n",
              "          const dataTable =\n",
              "            await google.colab.kernel.invokeFunction('convertToInteractive',\n",
              "                                                     [key], {});\n",
              "          if (!dataTable) return;\n",
              "\n",
              "          const docLinkHtml = 'Like what you see? Visit the ' +\n",
              "            '<a target=\"_blank\" href=https://colab.research.google.com/notebooks/data_table.ipynb>data table notebook</a>'\n",
              "            + ' to learn more about interactive tables.';\n",
              "          element.innerHTML = '';\n",
              "          dataTable['output_type'] = 'display_data';\n",
              "          await google.colab.output.renderOutput(dataTable, element);\n",
              "          const docLink = document.createElement('div');\n",
              "          docLink.innerHTML = docLinkHtml;\n",
              "          element.appendChild(docLink);\n",
              "        }\n",
              "      </script>\n",
              "    </div>\n",
              "  </div>\n",
              "  "
            ]
          },
          "metadata": {},
          "execution_count": 8
        }
      ]
    },
    {
      "cell_type": "code",
      "source": [
        "df.columns"
      ],
      "metadata": {
        "colab": {
          "base_uri": "https://localhost:8080/"
        },
        "id": "ZKp9u4NFsahv",
        "outputId": "1b13e5be-fe85-4a32-abf0-2a697b565dc4"
      },
      "execution_count": null,
      "outputs": [
        {
          "output_type": "execute_result",
          "data": {
            "text/plain": [
              "Index(['Store', 'StoreType', 'Assortment', 'CompetitionDistance',\n",
              "       'CompetitionOpenSinceMonth', 'CompetitionOpenSinceYear', 'Promo2',\n",
              "       'Promo2SinceWeek', 'Promo2SinceYear', 'PromoInterval'],\n",
              "      dtype='object')"
            ]
          },
          "metadata": {},
          "execution_count": 9
        }
      ]
    },
    {
      "cell_type": "code",
      "source": [
        "# Dataset Rows & Columns count\n",
        "df.shape"
      ],
      "metadata": {
        "colab": {
          "base_uri": "https://localhost:8080/"
        },
        "id": "GR6uB32d8oal",
        "outputId": "59be53ad-8f1e-4549-f657-d4ba60a5b4bc"
      },
      "execution_count": null,
      "outputs": [
        {
          "output_type": "execute_result",
          "data": {
            "text/plain": [
              "(1115, 10)"
            ]
          },
          "metadata": {},
          "execution_count": 41
        }
      ]
    },
    {
      "cell_type": "code",
      "source": [
        "df.size"
      ],
      "metadata": {
        "colab": {
          "base_uri": "https://localhost:8080/"
        },
        "id": "fca5KASu8r85",
        "outputId": "7439862a-edf3-4e09-d357-fa76c64cb7f9"
      },
      "execution_count": null,
      "outputs": [
        {
          "output_type": "execute_result",
          "data": {
            "text/plain": [
              "11150"
            ]
          },
          "metadata": {},
          "execution_count": 42
        }
      ]
    },
    {
      "cell_type": "code",
      "source": [
        "# Dataset Info\n",
        "df.info()"
      ],
      "metadata": {
        "colab": {
          "base_uri": "https://localhost:8080/"
        },
        "id": "5zZfDghatxZ_",
        "outputId": "2543b7a5-1178-40cb-f8ed-10eba9e4b811"
      },
      "execution_count": null,
      "outputs": [
        {
          "output_type": "stream",
          "name": "stdout",
          "text": [
            "<class 'pandas.core.frame.DataFrame'>\n",
            "RangeIndex: 1115 entries, 0 to 1114\n",
            "Data columns (total 10 columns):\n",
            " #   Column                     Non-Null Count  Dtype  \n",
            "---  ------                     --------------  -----  \n",
            " 0   Store                      1115 non-null   int64  \n",
            " 1   StoreType                  1115 non-null   object \n",
            " 2   Assortment                 1115 non-null   object \n",
            " 3   CompetitionDistance        1112 non-null   float64\n",
            " 4   CompetitionOpenSinceMonth  761 non-null    float64\n",
            " 5   CompetitionOpenSinceYear   761 non-null    float64\n",
            " 6   Promo2                     1115 non-null   int64  \n",
            " 7   Promo2SinceWeek            571 non-null    float64\n",
            " 8   Promo2SinceYear            571 non-null    float64\n",
            " 9   PromoInterval              571 non-null    object \n",
            "dtypes: float64(5), int64(2), object(3)\n",
            "memory usage: 87.2+ KB\n"
          ]
        }
      ]
    },
    {
      "cell_type": "code",
      "source": [
        "# Dataset Duplicate Value Count\n",
        "df.duplicated().sum()"
      ],
      "metadata": {
        "colab": {
          "base_uri": "https://localhost:8080/"
        },
        "id": "NKkxgk129N9O",
        "outputId": "f1d70845-90e6-4285-a856-182af37ebec6"
      },
      "execution_count": null,
      "outputs": [
        {
          "output_type": "execute_result",
          "data": {
            "text/plain": [
              "0"
            ]
          },
          "metadata": {},
          "execution_count": 44
        }
      ]
    },
    {
      "cell_type": "code",
      "source": [
        "# Missing Values/Null Values Count\n",
        "df.isna().sum()"
      ],
      "metadata": {
        "colab": {
          "base_uri": "https://localhost:8080/"
        },
        "id": "xSpBKLYht0j8",
        "outputId": "d26e4d9e-2206-4866-e8fd-6c8353dee3e6"
      },
      "execution_count": null,
      "outputs": [
        {
          "output_type": "execute_result",
          "data": {
            "text/plain": [
              "Store                          0\n",
              "StoreType                      0\n",
              "Assortment                     0\n",
              "CompetitionDistance            3\n",
              "CompetitionOpenSinceMonth    354\n",
              "CompetitionOpenSinceYear     354\n",
              "Promo2                         0\n",
              "Promo2SinceWeek              544\n",
              "Promo2SinceYear              544\n",
              "PromoInterval                544\n",
              "dtype: int64"
            ]
          },
          "metadata": {},
          "execution_count": 13
        }
      ]
    },
    {
      "cell_type": "code",
      "source": [
        "# Visualizing the missing values\n",
        "# plt.figure(figsize=(7,7))\n",
        "# sns.distplot(df.isna().melt(value_name='missing'))\n",
        "            #  y='variable',\n",
        "            #  hue='missing',\n",
        "            #  multiple='fill',\n",
        "            #  aspect=1.7)\n",
        "import missingno as msno\n",
        "msno.bar(df,figsize=(10,7))"
      ],
      "metadata": {
        "colab": {
          "base_uri": "https://localhost:8080/",
          "height": 660
        },
        "id": "VWY3wbrj-Chc",
        "outputId": "4c342c74-1fac-4a15-b352-664dfde51638"
      },
      "execution_count": null,
      "outputs": [
        {
          "output_type": "execute_result",
          "data": {
            "text/plain": [
              "<matplotlib.axes._subplots.AxesSubplot at 0x7f76cac5fb20>"
            ]
          },
          "metadata": {},
          "execution_count": 60
        },
        {
          "output_type": "display_data",
          "data": {
            "text/plain": [
              "<Figure size 720x504 with 3 Axes>"
            ],
            "image/png": "[encoded data removed]"
          },
          "metadata": {
            "needs_background": "light"
          }
        }
      ]
    },
    {
      "cell_type": "code",
      "source": [
        "# box_plot_data=df['CompetitionOpenSinceMonth']\n",
        "sns.boxplot(df['Promo2SinceWeek'])\n",
        "plt.show()"
      ],
      "metadata": {
        "colab": {
          "base_uri": "https://localhost:8080/",
          "height": 335
        },
        "id": "xZyfG3-tEBt1",
        "outputId": "3cf716d6-943b-40e9-cfca-59a22817c3a6"
      },
      "execution_count": 11,
      "outputs": [
        {
          "output_type": "stream",
          "name": "stderr",
          "text": [
            "/usr/local/lib/python3.8/dist-packages/seaborn/_decorators.py:36: FutureWarning: Pass the following variable as a keyword arg: x. From version 0.12, the only valid positional argument will be `data`, and passing other arguments without an explicit keyword will result in an error or misinterpretation.\n",
            "  warnings.warn(\n"
          ]
        },
        {
          "output_type": "display_data",
          "data": {
            "text/plain": [
              "<Figure size 432x288 with 1 Axes>"
            ],
            "image/png": "[encoded data removed]"
          },
          "metadata": {
            "needs_background": "light"
          }
        }
      ]
    },
    {
      "cell_type": "code",
      "source": [
        "\n",
        "fig = plt.figure(figsize=(9, 6))\n",
        "df.boxplot(column = 'Promo2SinceWeek').set_ylabel('Promo2SinceWeek')\n",
        "\n",
        "plt.show()"
      ],
      "metadata": {
        "colab": {
          "base_uri": "https://localhost:8080/",
          "height": 374
        },
        "id": "ZZjL4vglFJ2o",
        "outputId": "7fe2f484-7957-4e09-9368-f5a7d41a27a4"
      },
      "execution_count": 21,
      "outputs": [
        {
          "output_type": "display_data",
          "data": {
            "text/plain": [
              "<Figure size 648x432 with 1 Axes>"
            ],
            "image/png": "[encoded data removed]"
          },
          "metadata": {
            "needs_background": "light"
          }
        }
      ]
    },
    {
      "cell_type": "code",
      "source": [
        "fig = plt.figure(figsize=(9, 6))\n",
        "df.boxplot(column = 'Promo2SinceYear').set_ylabel('Promo2SinceYear')\n",
        "\n",
        "plt.show()"
      ],
      "metadata": {
        "colab": {
          "base_uri": "https://localhost:8080/",
          "height": 374
        },
        "id": "TlVE_HXyJdxJ",
        "outputId": "81b2af02-c1e8-471d-fc95-98b7aadbe8f4"
      },
      "execution_count": 25,
      "outputs": [
        {
          "output_type": "display_data",
          "data": {
            "text/plain": [
              "<Figure size 648x432 with 1 Axes>"
            ],
            "image/png": "[encoded data removed]"
          },
          "metadata": {
            "needs_background": "light"
          }
        }
      ]
    },
    {
      "cell_type": "code",
      "source": [
        "fig = plt.figure(figsize=(9, 6))\n",
        "df.boxplot(column = 'CompetitionOpenSinceMonth').set_ylabel('CompetitionOpenSinceMonth')\n",
        "\n",
        "plt.show()"
      ],
      "metadata": {
        "colab": {
          "base_uri": "https://localhost:8080/",
          "height": 374
        },
        "id": "cfHeqjIeK4PU",
        "outputId": "558f4998-2bef-44dd-c8c4-f33aa9adf6e0"
      },
      "execution_count": 27,
      "outputs": [
        {
          "output_type": "display_data",
          "data": {
            "text/plain": [
              "<Figure size 648x432 with 1 Axes>"
            ],
            "image/png": "[encoded data removed]"
          },
          "metadata": {
            "needs_background": "light"
          }
        }
      ]
    },
    {
      "cell_type": "code",
      "source": [
        "fig = plt.figure(figsize=(9, 6))\n",
        "df.boxplot(column = 'CompetitionOpenSinceYear').set_ylabel('CompetitionOpenSinceYear')\n",
        "\n",
        "plt.show()"
      ],
      "metadata": {
        "colab": {
          "base_uri": "https://localhost:8080/",
          "height": 376
        },
        "id": "-x1HGA1NK4Zy",
        "outputId": "b4a11d71-b9aa-4a99-f36c-bbd173a6aac9"
      },
      "execution_count": 28,
      "outputs": [
        {
          "output_type": "display_data",
          "data": {
            "text/plain": [
              "<Figure size 648x432 with 1 Axes>"
            ],
            "image/png": "[encoded data removed]"
          },
          "metadata": {
            "needs_background": "light"
          }
        }
      ]
    },
    {
      "cell_type": "code",
      "source": [],
      "metadata": {
        "id": "prQHKN08K4jo"
      },
      "execution_count": null,
      "outputs": []
    },
    {
      "cell_type": "code",
      "source": [
        "df.fillna({'CompetitionDistance':df['CompetitionDistance'].mean(),\n",
        "           'CompetitionOpenSinceMonth':df['CompetitionOpenSinceMonth'].mean(),\n",
        "           'CompetitionOpenSinceYear':df['CompetitionOpenSinceYear'].median(),\n",
        "           'Promo2SinceWeek':df['Promo2SinceWeek'].mean(),\n",
        "           'Promo2SinceYear':df['Promo2SinceYear'].mean(),\n",
        "           'PromoInterval':df['PromoInterval'].mode()[0]},inplace=True)"
      ],
      "metadata": {
        "id": "giWZEnp8K4sO"
      },
      "execution_count": 32,
      "outputs": []
    },
    {
      "cell_type": "code",
      "source": [
        "df.isna().sum()"
      ],
      "metadata": {
        "colab": {
          "base_uri": "https://localhost:8080/"
        },
        "id": "DSvvIVfdN4t7",
        "outputId": "ddd25d92-e6a0-4945-a375-4fdc5df34ec0"
      },
      "execution_count": 33,
      "outputs": [
        {
          "output_type": "execute_result",
          "data": {
            "text/plain": [
              "Store                        0\n",
              "StoreType                    0\n",
              "Assortment                   0\n",
              "CompetitionDistance          0\n",
              "CompetitionOpenSinceMonth    0\n",
              "CompetitionOpenSinceYear     0\n",
              "Promo2                       0\n",
              "Promo2SinceWeek              0\n",
              "Promo2SinceYear              0\n",
              "PromoInterval                0\n",
              "dtype: int64"
            ]
          },
          "metadata": {},
          "execution_count": 33
        }
      ]
    },
    {
      "cell_type": "markdown",
      "source": [
        "#What did you know about your dataset?\n",
        "\n"
      ],
      "metadata": {
        "id": "3bbO0d-ZFDuL"
      }
    },
    {
      "cell_type": "code",
      "source": [
        "# Dataset Columns\n",
        "df.columns"
      ],
      "metadata": {
        "colab": {
          "base_uri": "https://localhost:8080/"
        },
        "id": "wWG42kpbFAxC",
        "outputId": "176d5c4b-ab9d-401d-8cc1-2b2984a02daf"
      },
      "execution_count": null,
      "outputs": [
        {
          "output_type": "execute_result",
          "data": {
            "text/plain": [
              "Index(['Store', 'StoreType', 'Assortment', 'CompetitionDistance',\n",
              "       'CompetitionOpenSinceMonth', 'CompetitionOpenSinceYear', 'Promo2',\n",
              "       'Promo2SinceWeek', 'Promo2SinceYear', 'PromoInterval'],\n",
              "      dtype='object')"
            ]
          },
          "metadata": {},
          "execution_count": 61
        }
      ]
    },
    {
      "cell_type": "code",
      "source": [
        "# Dataset Describe\n",
        "df.describe()"
      ],
      "metadata": {
        "colab": {
          "base_uri": "https://localhost:8080/",
          "height": 364
        },
        "id": "bIsojRCqGKgk",
        "outputId": "ac250d78-b312-4105-c516-72689c7ec411"
      },
      "execution_count": null,
      "outputs": [
        {
          "output_type": "execute_result",
          "data": {
            "text/plain": [
              "            Store  CompetitionDistance  CompetitionOpenSinceMonth  \\\n",
              "count  1115.00000          1112.000000                 761.000000   \n",
              "mean    558.00000          5404.901079                   7.224704   \n",
              "std     322.01708          7663.174720                   3.212348   \n",
              "min       1.00000            20.000000                   1.000000   \n",
              "25%     279.50000           717.500000                   4.000000   \n",
              "50%     558.00000          2325.000000                   8.000000   \n",
              "75%     836.50000          6882.500000                  10.000000   \n",
              "max    1115.00000         75860.000000                  12.000000   \n",
              "\n",
              "       CompetitionOpenSinceYear       Promo2  Promo2SinceWeek  Promo2SinceYear  \n",
              "count                761.000000  1115.000000       571.000000       571.000000  \n",
              "mean                2008.668857     0.512108        23.595447      2011.763573  \n",
              "std                    6.195983     0.500078        14.141984         1.674935  \n",
              "min                 1900.000000     0.000000         1.000000      2009.000000  \n",
              "25%                 2006.000000     0.000000        13.000000      2011.000000  \n",
              "50%                 2010.000000     1.000000        22.000000      2012.000000  \n",
              "75%                 2013.000000     1.000000        37.000000      2013.000000  \n",
              "max                 2015.000000     1.000000        50.000000      2015.000000  "
            ],
            "text/html": [
              "\n",
              "  <div id=\"df-26251919-2840-4fc1-9b33-67ea95bf2ed8\">\n",
              "    <div class=\"colab-df-container\">\n",
              "      <div>\n",
              "<style scoped>\n",
              "    .dataframe tbody tr th:only-of-type {\n",
              "        vertical-align: middle;\n",
              "    }\n",
              "\n",
              "    .dataframe tbody tr th {\n",
              "        vertical-align: top;\n",
              "    }\n",
              "\n",
              "    .dataframe thead th {\n",
              "        text-align: right;\n",
              "    }\n",
              "</style>\n",
              "<table border=\"1\" class=\"dataframe\">\n",
              "  <thead>\n",
              "    <tr style=\"text-align: right;\">\n",
              "      <th></th>\n",
              "      <th>Store</th>\n",
              "      <th>CompetitionDistance</th>\n",
              "      <th>CompetitionOpenSinceMonth</th>\n",
              "      <th>CompetitionOpenSinceYear</th>\n",
              "      <th>Promo2</th>\n",
              "      <th>Promo2SinceWeek</th>\n",
              "      <th>Promo2SinceYear</th>\n",
              "    </tr>\n",
              "  </thead>\n",
              "  <tbody>\n",
              "    <tr>\n",
              "      <th>count</th>\n",
              "      <td>1115.00000</td>\n",
              "      <td>1112.000000</td>\n",
              "      <td>761.000000</td>\n",
              "      <td>761.000000</td>\n",
              "      <td>1115.000000</td>\n",
              "      <td>571.000000</td>\n",
              "      <td>571.000000</td>\n",
              "    </tr>\n",
              "    <tr>\n",
              "      <th>mean</th>\n",
              "      <td>558.00000</td>\n",
              "      <td>5404.901079</td>\n",
              "      <td>7.224704</td>\n",
              "      <td>2008.668857</td>\n",
              "      <td>0.512108</td>\n",
              "      <td>23.595447</td>\n",
              "      <td>2011.763573</td>\n",
              "    </tr>\n",
              "    <tr>\n",
              "      <th>std</th>\n",
              "      <td>322.01708</td>\n",
              "      <td>7663.174720</td>\n",
              "      <td>3.212348</td>\n",
              "      <td>6.195983</td>\n",
              "      <td>0.500078</td>\n",
              "      <td>14.141984</td>\n",
              "      <td>1.674935</td>\n",
              "    </tr>\n",
              "    <tr>\n",
              "      <th>min</th>\n",
              "      <td>1.00000</td>\n",
              "      <td>20.000000</td>\n",
              "      <td>1.000000</td>\n",
              "      <td>1900.000000</td>\n",
              "      <td>0.000000</td>\n",
              "      <td>1.000000</td>\n",
              "      <td>2009.000000</td>\n",
              "    </tr>\n",
              "    <tr>\n",
              "      <th>25%</th>\n",
              "      <td>279.50000</td>\n",
              "      <td>717.500000</td>\n",
              "      <td>4.000000</td>\n",
              "      <td>2006.000000</td>\n",
              "      <td>0.000000</td>\n",
              "      <td>13.000000</td>\n",
              "      <td>2011.000000</td>\n",
              "    </tr>\n",
              "    <tr>\n",
              "      <th>50%</th>\n",
              "      <td>558.00000</td>\n",
              "      <td>2325.000000</td>\n",
              "      <td>8.000000</td>\n",
              "      <td>2010.000000</td>\n",
              "      <td>1.000000</td>\n",
              "      <td>22.000000</td>\n",
              "      <td>2012.000000</td>\n",
              "    </tr>\n",
              "    <tr>\n",
              "      <th>75%</th>\n",
              "      <td>836.50000</td>\n",
              "      <td>6882.500000</td>\n",
              "      <td>10.000000</td>\n",
              "      <td>2013.000000</td>\n",
              "      <td>1.000000</td>\n",
              "      <td>37.000000</td>\n",
              "      <td>2013.000000</td>\n",
              "    </tr>\n",
              "    <tr>\n",
              "      <th>max</th>\n",
              "      <td>1115.00000</td>\n",
              "      <td>75860.000000</td>\n",
              "      <td>12.000000</td>\n",
              "      <td>2015.000000</td>\n",
              "      <td>1.000000</td>\n",
              "      <td>50.000000</td>\n",
              "      <td>2015.000000</td>\n",
              "    </tr>\n",
              "  </tbody>\n",
              "</table>\n",
              "</div>\n",
              "      <button class=\"colab-df-convert\" onclick=\"convertToInteractive('df-26251919-2840-4fc1-9b33-67ea95bf2ed8')\"\n",
              "              title=\"Convert this dataframe to an interactive table.\"\n",
              "              style=\"display:none;\">\n",
              "        \n",
              "  <svg xmlns=\"http://www.w3.org/2000/svg\" height=\"24px\"viewBox=\"0 0 24 24\"\n",
              "       width=\"24px\">\n",
              "    <path d=\"M0 0h24v24H0V0z\" fill=\"none\"/>\n",
              "    <path d=\"M18.56 5.44l.94 2.06.94-2.06 2.06-.94-2.06-.94-.94-2.06-.94 2.06-2.06.94zm-11 1L8.5 8.5l.94-2.06 2.06-.94-2.06-.94L8.5 2.5l-.94 2.06-2.06.94zm10 10l.94 2.06.94-2.06 2.06-.94-2.06-.94-.94-2.06-.94 2.06-2.06.94z\"/><path d=\"M17.41 7.96l-1.37-1.37c-.4-.4-.92-.59-1.43-.59-.52 0-1.04.2-1.43.59L10.3 9.45l-7.72 7.72c-.78.78-.78 2.05 0 2.83L4 21.41c.39.39.9.59 1.41.59.51 0 1.02-.2 1.41-.59l7.78-7.78 2.81-2.81c.8-.78.8-2.07 0-2.86zM5.41 20L4 18.59l7.72-7.72 1.47 1.35L5.41 20z\"/>\n",
              "  </svg>\n",
              "      </button>\n",
              "      \n",
              "  <style>\n",
              "    .colab-df-container {\n",
              "      display:flex;\n",
              "      flex-wrap:wrap;\n",
              "      gap: 12px;\n",
              "    }\n",
              "\n",
              "    .colab-df-convert {\n",
              "      background-color: #E8F0FE;\n",
              "      border: none;\n",
              "      border-radius: 50%;\n",
              "      cursor: pointer;\n",
              "      display: none;\n",
              "      fill: #1967D2;\n",
              "      height: 32px;\n",
              "      padding: 0 0 0 0;\n",
              "      width: 32px;\n",
              "    }\n",
              "\n",
              "    .colab-df-convert:hover {\n",
              "      background-color: #E2EBFA;\n",
              "      box-shadow: 0px 1px 2px rgba(60, 64, 67, 0.3), 0px 1px 3px 1px rgba(60, 64, 67, 0.15);\n",
              "      fill: #174EA6;\n",
              "    }\n",
              "\n",
              "    [theme=dark] .colab-df-convert {\n",
              "      background-color: #3B4455;\n",
              "      fill: #D2E3FC;\n",
              "    }\n",
              "\n",
              "    [theme=dark] .colab-df-convert:hover {\n",
              "      background-color: #434B5C;\n",
              "      box-shadow: 0px 1px 3px 1px rgba(0, 0, 0, 0.15);\n",
              "      filter: drop-shadow(0px 1px 2px rgba(0, 0, 0, 0.3));\n",
              "      fill: #FFFFFF;\n",
              "    }\n",
              "  </style>\n",
              "\n",
              "      <script>\n",
              "        const buttonEl =\n",
              "          document.querySelector('#df-26251919-2840-4fc1-9b33-67ea95bf2ed8 button.colab-df-convert');\n",
              "        buttonEl.style.display =\n",
              "          google.colab.kernel.accessAllowed ? 'block' : 'none';\n",
              "\n",
              "        async function convertToInteractive(key) {\n",
              "          const element = document.querySelector('#df-26251919-2840-4fc1-9b33-67ea95bf2ed8');\n",
              "          const dataTable =\n",
              "            await google.colab.kernel.invokeFunction('convertToInteractive',\n",
              "                                                     [key], {});\n",
              "          if (!dataTable) return;\n",
              "\n",
              "          const docLinkHtml = 'Like what you see? Visit the ' +\n",
              "            '<a target=\"_blank\" href=https://colab.research.google.com/notebooks/data_table.ipynb>data table notebook</a>'\n",
              "            + ' to learn more about interactive tables.';\n",
              "          element.innerHTML = '';\n",
              "          dataTable['output_type'] = 'display_data';\n",
              "          await google.colab.output.renderOutput(dataTable, element);\n",
              "          const docLink = document.createElement('div');\n",
              "          docLink.innerHTML = docLinkHtml;\n",
              "          element.appendChild(docLink);\n",
              "        }\n",
              "      </script>\n",
              "    </div>\n",
              "  </div>\n",
              "  "
            ]
          },
          "metadata": {},
          "execution_count": 62
        }
      ]
    },
    {
      "cell_type": "markdown",
      "source": [
        "# Variables Description"
      ],
      "metadata": {
        "id": "uxY1JaxXGTK_"
      }
    },
    {
      "cell_type": "markdown",
      "source": [
        "ANSWER\n"
      ],
      "metadata": {
        "id": "tVjiupwXMlSe"
      }
    },
    {
      "cell_type": "code",
      "source": [],
      "metadata": {
        "id": "sEf3PW-rGSnT"
      },
      "execution_count": null,
      "outputs": []
    },
    {
      "cell_type": "code",
      "source": [
        "# Check Unique Values for each variable.\n",
        "df['Store'].unique()"
      ],
      "metadata": {
        "colab": {
          "base_uri": "https://localhost:8080/"
        },
        "id": "6sFVqVCKGYNZ",
        "outputId": "47084239-453d-46b4-bdea-ee92fa8bbc19"
      },
      "execution_count": null,
      "outputs": [
        {
          "output_type": "execute_result",
          "data": {
            "text/plain": [
              "array([   1,    2,    3, ..., 1113, 1114, 1115])"
            ]
          },
          "metadata": {},
          "execution_count": 75
        }
      ]
    },
    {
      "cell_type": "markdown",
      "source": [
        "## 2. Understanding Your Variables"
      ],
      "metadata": {
        "id": "5xgxRoBcFfO4"
      }
    },
    {
      "cell_type": "code",
      "source": [
        "uniques = {col:df[col].unique() for col in df.columns}"
      ],
      "metadata": {
        "id": "jYBX8cwdFczp"
      },
      "execution_count": null,
      "outputs": []
    },
    {
      "cell_type": "code",
      "source": [
        "print(uniques)"
      ],
      "metadata": {
        "colab": {
          "base_uri": "https://localhost:8080/"
        },
        "id": "9Jmzwt2RFdIL",
        "outputId": "f08d2c74-e8b6-4052-c111-fa3c507d21dc"
      },
      "execution_count": null,
      "outputs": [
        {
          "output_type": "stream",
          "name": "stdout",
          "text": [
            "{'Store': array([   1,    2,    3, ..., 1113, 1114, 1115]), 'StoreType': array(['c', 'a', 'd', 'b'], dtype=object), 'Assortment': array(['a', 'c', 'b'], dtype=object), 'CompetitionDistance': array([1.270e+03, 5.700e+02, 1.413e+04, 6.200e+02, 2.991e+04, 3.100e+02,\n",
            "       2.400e+04, 7.520e+03, 2.030e+03, 3.160e+03, 9.600e+02, 1.070e+03,\n",
            "       1.300e+03, 4.110e+03, 3.270e+03, 5.000e+01, 1.384e+04, 3.240e+03,\n",
            "       2.340e+03, 5.500e+02, 1.040e+03, 4.060e+03, 4.590e+03, 4.300e+02,\n",
            "       2.300e+03, 6.000e+01, 1.200e+03, 2.170e+03, 4.000e+01, 9.800e+03,\n",
            "       2.910e+03, 1.320e+03, 2.240e+03, 7.660e+03, 5.400e+02, 4.230e+03,\n",
            "       1.090e+03, 2.600e+02, 1.800e+02, 1.180e+03, 2.900e+02, 4.880e+03,\n",
            "       9.710e+03, 2.700e+02, 1.060e+03, 1.801e+04, 6.260e+03, 1.057e+04,\n",
            "       4.500e+02, 3.036e+04, 7.170e+03, 7.200e+02, 6.620e+03, 4.200e+02,\n",
            "       7.340e+03, 2.840e+03, 5.540e+03, 3.500e+02, 2.050e+03, 3.700e+03,\n",
            "       2.256e+04, 4.100e+02, 2.500e+02, 1.130e+03, 4.840e+03, 1.750e+04,\n",
            "       2.200e+03, 1.650e+03, 3.300e+02, 2.244e+04, 1.996e+04, 3.510e+03,\n",
            "       3.320e+03, 7.910e+03, 2.370e+03, 2.239e+04, 2.710e+03, 1.181e+04,\n",
            "       1.870e+03, 4.800e+02, 5.600e+02, 1.069e+04, 2.380e+03, 2.410e+03,\n",
            "       2.400e+02, 1.669e+04, 1.462e+04, 1.890e+03, 8.780e+03, 8.980e+03,\n",
            "       1.514e+04, 1.793e+04, 2.440e+03, 1.500e+02, 5.210e+03, 3.900e+02,\n",
            "       6.190e+03, 1.390e+03, 1.930e+03, 2.190e+03, 3.300e+03, 4.659e+04,\n",
            "       7.890e+03, 1.630e+03, 2.093e+04, 4.510e+03, 5.740e+03, 6.800e+02,\n",
            "       3.450e+03, 3.580e+03, 2.100e+03, 2.290e+03, 3.570e+03, 5.826e+04,\n",
            "       1.676e+04, 1.410e+03, 7.600e+02, 3.370e+03, 1.350e+03, 2.000e+03,\n",
            "       2.460e+03, 9.000e+02, 9.200e+02, 5.190e+03, 1.730e+03, 2.536e+04,\n",
            "       1.700e+03, 1.540e+03, 2.930e+03, 1.657e+04, 2.800e+02, 8.050e+03,\n",
            "       8.540e+03, 2.090e+03, 2.610e+03, 3.183e+04, 4.360e+03, 1.780e+03,\n",
            "       1.624e+04, 1.642e+04, 3.050e+03, 2.020e+03, 2.950e+03, 1.184e+04,\n",
            "       8.530e+03, 1.711e+04, 2.970e+03, 5.340e+03, 1.480e+03, 1.160e+03,\n",
            "       3.720e+03, 1.000e+02, 1.400e+02, 1.254e+04, 9.800e+02, 2.640e+03,\n",
            "       1.100e+02, 1.309e+04, 4.130e+03, 3.770e+03, 1.250e+03, 1.710e+03,\n",
            "       5.800e+03, 1.261e+04, 9.670e+03, 3.560e+03, 1.860e+03, 1.936e+04,\n",
            "       8.500e+02, 5.760e+03, 1.470e+03, 1.100e+03, 2.770e+03, 5.200e+02,\n",
            "       1.697e+04, 2.200e+02, 3.850e+03, 4.210e+03, 6.360e+03, 2.026e+04,\n",
            "       5.140e+03, 4.900e+02, 5.630e+03, 3.800e+02, 6.870e+03, 3.000e+02,\n",
            "       1.168e+04, 9.700e+02, 1.505e+04, 4.030e+03, 8.650e+03, 1.900e+02,\n",
            "       3.150e+03, 6.400e+02, 1.640e+03, 1.000e+03, 1.353e+04, 2.920e+03,\n",
            "       7.930e+03, 1.018e+04, 1.080e+04, 1.741e+04, 6.680e+03, 3.840e+03,\n",
            "       1.357e+04, 4.370e+03, 5.710e+03, 1.420e+03, 3.200e+02, 6.100e+02,\n",
            "       1.110e+03, 7.800e+02, 6.880e+03, 7.100e+02, 1.310e+03, 4.660e+03,\n",
            "       7.000e+01, 3.400e+02, 3.520e+03, 2.233e+04, 4.630e+03, 8.000e+01,\n",
            "       2.719e+04, 2.100e+02, 1.534e+04, 1.140e+03, 4.580e+03, 3.600e+02,\n",
            "       4.520e+03, 1.450e+03, 1.618e+04, 8.480e+03, 3.640e+03, 2.960e+03,\n",
            "       7.840e+03, 9.260e+03, 2.320e+03, 1.864e+04, 6.970e+03, 1.220e+03,\n",
            "       2.260e+03, 1.290e+03, 1.460e+03, 2.740e+03, 8.000e+02, 6.540e+03,\n",
            "       4.150e+03,       nan, 9.580e+03, 1.984e+04, 3.863e+04, 1.200e+02,\n",
            "       1.543e+04, 1.950e+03, 2.470e+03, 5.100e+03, 1.866e+04, 8.740e+03,\n",
            "       1.130e+04, 1.416e+04, 3.871e+04, 9.000e+03, 3.140e+03, 3.233e+04,\n",
            "       8.140e+03, 8.400e+03, 1.314e+04, 1.007e+04, 3.130e+03, 3.700e+02,\n",
            "       6.700e+02, 1.840e+03, 4.040e+03, 9.000e+01, 1.060e+04, 1.590e+03,\n",
            "       2.280e+03, 8.080e+03, 1.577e+04, 1.865e+04, 8.090e+03, 9.360e+03,\n",
            "       1.649e+04, 1.490e+03, 8.880e+03, 5.290e+03, 1.500e+03, 9.720e+03,\n",
            "       8.970e+03, 2.060e+03, 2.890e+03, 2.040e+03, 4.490e+03, 1.362e+04,\n",
            "       6.470e+03, 5.870e+03, 8.250e+03, 1.970e+03, 1.112e+04, 1.150e+03,\n",
            "       1.571e+04, 1.600e+02, 2.140e+03, 6.630e+03, 1.800e+03, 2.613e+04,\n",
            "       1.300e+02, 6.690e+03, 1.600e+03, 4.600e+02, 2.120e+03, 4.820e+03,\n",
            "       1.085e+04, 3.620e+03, 2.313e+04, 5.360e+03, 9.200e+03, 5.830e+03,\n",
            "       4.970e+03, 1.080e+03, 8.240e+03, 5.890e+03, 1.560e+03, 8.400e+02,\n",
            "       8.460e+03, 4.460e+03, 6.210e+03, 6.910e+03, 4.650e+03, 1.620e+03,\n",
            "       3.530e+03, 2.880e+03, 1.635e+04, 1.287e+04, 8.100e+02, 3.003e+04,\n",
            "       1.302e+04, 9.100e+02, 3.900e+03, 2.530e+03, 5.000e+02, 1.140e+04,\n",
            "       1.510e+03, 3.970e+03, 5.780e+03, 1.850e+03, 7.586e+04, 2.645e+04,\n",
            "       3.390e+03, 3.405e+04, 1.790e+03, 4.432e+04, 4.160e+03, 1.089e+04,\n",
            "       3.110e+03, 2.039e+04, 5.260e+03, 5.300e+03, 5.030e+03, 1.481e+04,\n",
            "       8.300e+03, 7.700e+02, 1.940e+03, 7.470e+03, 2.550e+03, 2.310e+03,\n",
            "       1.430e+04, 2.180e+03, 1.496e+04, 6.600e+02, 4.680e+03, 1.740e+03,\n",
            "       1.260e+03, 5.470e+03, 2.780e+03, 1.610e+03, 9.900e+02, 1.308e+04,\n",
            "       8.200e+02, 9.070e+03, 1.280e+03, 4.740e+03, 8.260e+03, 5.900e+02,\n",
            "       4.000e+02, 1.126e+04, 2.000e+01, 2.249e+04, 3.330e+03, 2.510e+03,\n",
            "       6.900e+03, 1.861e+04, 7.160e+03, 4.086e+04, 2.062e+04, 1.292e+04,\n",
            "       1.816e+04, 5.950e+03, 4.700e+03, 6.000e+02, 6.500e+02, 7.280e+03,\n",
            "       5.020e+03, 5.800e+02, 8.990e+03, 3.760e+03, 2.330e+03, 4.260e+03,\n",
            "       3.040e+03, 3.000e+03, 3.910e+03, 1.910e+03, 1.210e+03, 7.000e+02,\n",
            "       1.010e+03, 4.270e+03, 1.340e+03, 2.110e+03, 9.230e+03, 1.190e+03,\n",
            "       4.400e+03, 2.270e+03, 1.270e+04, 2.097e+04, 1.700e+02, 7.250e+03,\n",
            "       1.360e+03, 4.400e+02, 1.572e+04, 3.340e+03, 2.540e+03, 3.306e+04,\n",
            "       1.734e+04, 8.220e+03, 1.095e+04, 1.031e+04, 1.837e+04, 2.070e+03,\n",
            "       2.490e+03, 7.300e+02, 8.940e+03, 9.910e+03, 5.440e+03, 3.000e+01,\n",
            "       4.080e+03, 6.920e+03, 1.170e+03, 1.074e+04, 5.100e+02, 1.690e+03,\n",
            "       2.870e+03, 3.350e+03, 1.164e+04, 2.753e+04, 9.790e+03, 1.017e+04,\n",
            "       7.780e+03, 8.040e+03, 5.300e+02, 2.300e+02, 7.420e+03, 2.130e+03,\n",
            "       1.457e+04, 2.000e+02, 6.930e+03, 7.860e+03, 1.680e+03, 2.700e+03,\n",
            "       1.708e+04, 1.517e+04, 3.250e+03, 4.140e+03, 2.850e+03, 2.005e+04,\n",
            "       1.876e+04, 1.504e+04, 3.030e+03, 3.780e+03, 8.300e+02, 8.550e+03,\n",
            "       7.830e+03, 2.900e+03, 1.147e+04, 4.870e+03, 1.207e+04, 3.200e+03,\n",
            "       8.190e+03, 1.532e+04, 3.590e+03, 5.650e+03, 5.900e+03, 1.754e+04,\n",
            "       4.054e+04, 1.399e+04, 1.527e+04, 3.528e+04, 8.600e+02, 1.920e+03,\n",
            "       5.980e+03, 6.400e+03, 1.190e+04, 4.380e+03, 6.710e+03, 1.370e+03,\n",
            "       1.765e+04, 4.330e+03, 4.574e+04, 3.410e+03, 8.670e+03, 1.313e+04,\n",
            "       1.978e+04, 2.390e+03, 3.224e+04, 2.649e+04, 2.543e+04, 9.820e+03,\n",
            "       2.630e+03, 2.064e+04, 1.699e+04, 6.300e+02, 5.390e+03, 1.549e+04,\n",
            "       3.210e+03, 1.530e+03, 9.770e+03, 1.728e+04, 5.090e+03, 7.180e+03,\n",
            "       9.560e+03, 4.833e+04, 1.760e+03, 2.477e+04, 3.870e+03, 1.862e+04,\n",
            "       1.277e+04, 9.640e+03, 2.590e+03, 2.453e+04, 1.621e+04, 1.757e+04,\n",
            "       7.980e+03, 3.290e+03, 6.320e+03, 5.070e+03, 3.470e+03, 2.720e+03,\n",
            "       1.460e+04, 6.890e+03, 2.765e+04, 8.860e+03, 5.000e+03, 1.120e+03,\n",
            "       9.400e+02, 1.404e+04, 4.770e+03, 3.440e+03, 3.020e+03, 6.270e+03,\n",
            "       2.177e+04, 7.400e+02, 2.137e+04, 1.020e+03, 9.680e+03, 2.181e+04,\n",
            "       1.062e+04, 3.860e+03, 2.179e+04, 2.919e+04, 4.570e+03, 7.550e+03,\n",
            "       1.243e+04, 1.970e+04, 4.450e+03, 1.867e+04, 1.937e+04, 1.854e+04,\n",
            "       3.920e+03, 3.170e+03, 7.290e+03, 1.980e+03, 1.248e+04, 3.100e+03,\n",
            "       7.240e+03, 1.871e+04, 2.620e+03, 6.420e+03, 4.700e+02, 5.150e+03,\n",
            "       1.570e+04, 5.460e+03, 2.235e+04, 2.810e+03, 2.820e+03, 6.860e+03,\n",
            "       1.802e+04, 1.670e+03, 2.220e+03, 1.430e+03, 8.700e+02, 6.300e+03,\n",
            "       1.983e+04, 9.430e+03, 2.362e+04, 9.630e+03, 4.180e+03, 3.890e+03,\n",
            "       4.420e+03, 2.193e+04, 2.480e+03, 3.460e+03, 6.560e+03, 5.840e+03,\n",
            "       2.230e+03, 1.964e+04, 6.480e+03, 4.610e+03, 6.330e+03, 1.520e+03,\n",
            "       3.740e+03, 1.990e+03, 3.641e+04, 7.680e+03, 1.375e+04, 2.715e+04,\n",
            "       1.729e+04, 2.699e+04, 2.907e+04, 3.750e+03, 1.317e+04, 5.080e+03,\n",
            "       1.319e+04, 5.350e+03, 3.230e+03, 3.380e+03, 3.430e+03, 8.110e+03,\n",
            "       6.250e+03, 1.202e+04, 5.010e+03, 1.805e+04, 5.380e+03, 1.668e+04,\n",
            "       1.154e+04, 2.210e+03, 4.300e+03, 5.220e+03, 9.990e+03, 1.045e+04,\n",
            "       6.900e+02, 1.830e+03, 5.330e+03, 1.400e+03, 3.490e+03, 1.900e+03,\n",
            "       1.880e+03]), 'CompetitionOpenSinceMonth': array([ 9., 11., 12.,  4., 10.,  8., nan,  3.,  6.,  5.,  1.,  2.,  7.]), 'CompetitionOpenSinceYear': array([2008., 2007., 2006., 2009., 2015., 2013., 2014., 2000., 2011.,\n",
            "         nan, 2010., 2005., 1999., 2003., 2012., 2004., 2002., 1961.,\n",
            "       1995., 2001., 1990., 1994., 1900., 1998.]), 'Promo2': array([0, 1]), 'Promo2SinceWeek': array([nan, 13., 14.,  1., 45., 40., 26., 22.,  5.,  6., 10., 31., 37.,\n",
            "        9., 39., 27., 18., 35., 23., 48., 36., 50., 44., 49., 28.]), 'Promo2SinceYear': array([  nan, 2010., 2011., 2012., 2009., 2014., 2015., 2013.]), 'PromoInterval': array([nan, 'Jan,Apr,Jul,Oct', 'Feb,May,Aug,Nov', 'Mar,Jun,Sept,Dec'],\n",
            "      dtype=object)}\n"
          ]
        }
      ]
    },
    {
      "cell_type": "markdown",
      "source": [
        "# 3. Data Wrangling"
      ],
      "metadata": {
        "id": "cSFX6E2xMShP"
      }
    },
    {
      "cell_type": "code",
      "source": [],
      "metadata": {
        "id": "-6LBg4szvPYM"
      },
      "execution_count": 29,
      "outputs": []
    },
    {
      "cell_type": "code",
      "source": [
        "numeric_features = df.describe().columns\n",
        "numeric_features"
      ],
      "metadata": {
        "id": "FHzM5oZnwFUQ",
        "colab": {
          "base_uri": "https://localhost:8080/"
        },
        "outputId": "86de09b7-9f0e-4253-f698-1353408b1379"
      },
      "execution_count": 37,
      "outputs": [
        {
          "output_type": "execute_result",
          "data": {
            "text/plain": [
              "Index(['Store', 'CompetitionDistance', 'CompetitionOpenSinceMonth',\n",
              "       'CompetitionOpenSinceYear', 'Promo2', 'Promo2SinceWeek',\n",
              "       'Promo2SinceYear'],\n",
              "      dtype='object')"
            ]
          },
          "metadata": {},
          "execution_count": 37
        }
      ]
    },
    {
      "cell_type": "code",
      "source": [
        "for col in numeric_features[1:]:\n",
        "  fig = plt.figure(figsize=(9,7))\n",
        "  ax=fig.gca()\n",
        "  sns.distplot(df[col],color='y')"
      ],
      "metadata": {
        "colab": {
          "base_uri": "https://localhost:8080/",
          "height": 1000
        },
        "id": "Yv-alx_qVbkF",
        "outputId": "e5993b02-fe0e-4205-8c44-7d0143b307d3"
      },
      "execution_count": 39,
      "outputs": [
        {
          "output_type": "stream",
          "name": "stderr",
          "text": [
            "/usr/local/lib/python3.8/dist-packages/seaborn/distributions.py:2619: FutureWarning: `distplot` is a deprecated function and will be removed in a future version. Please adapt your code to use either `displot` (a figure-level function with similar flexibility) or `histplot` (an axes-level function for histograms).\n",
            "  warnings.warn(msg, FutureWarning)\n",
            "/usr/local/lib/python3.8/dist-packages/seaborn/distributions.py:2619: FutureWarning: `distplot` is a deprecated function and will be removed in a future version. Please adapt your code to use either `displot` (a figure-level function with similar flexibility) or `histplot` (an axes-level function for histograms).\n",
            "  warnings.warn(msg, FutureWarning)\n",
            "/usr/local/lib/python3.8/dist-packages/seaborn/distributions.py:2619: FutureWarning: `distplot` is a deprecated function and will be removed in a future version. Please adapt your code to use either `displot` (a figure-level function with similar flexibility) or `histplot` (an axes-level function for histograms).\n",
            "  warnings.warn(msg, FutureWarning)\n",
            "/usr/local/lib/python3.8/dist-packages/seaborn/distributions.py:2619: FutureWarning: `distplot` is a deprecated function and will be removed in a future version. Please adapt your code to use either `displot` (a figure-level function with similar flexibility) or `histplot` (an axes-level function for histograms).\n",
            "  warnings.warn(msg, FutureWarning)\n",
            "/usr/local/lib/python3.8/dist-packages/seaborn/distributions.py:2619: FutureWarning: `distplot` is a deprecated function and will be removed in a future version. Please adapt your code to use either `displot` (a figure-level function with similar flexibility) or `histplot` (an axes-level function for histograms).\n",
            "  warnings.warn(msg, FutureWarning)\n",
            "/usr/local/lib/python3.8/dist-packages/seaborn/distributions.py:2619: FutureWarning: `distplot` is a deprecated function and will be removed in a future version. Please adapt your code to use either `displot` (a figure-level function with similar flexibility) or `histplot` (an axes-level function for histograms).\n",
            "  warnings.warn(msg, FutureWarning)\n"
          ]
        },
        {
          "output_type": "display_data",
          "data": {
            "text/plain": [
              "<Figure size 648x504 with 1 Axes>"
            ],
            "image/png": "[encoded data removed]"
          },
          "metadata": {
            "needs_background": "light"
          }
        },
        {
          "output_type": "display_data",
          "data": {
            "text/plain": [
              "<Figure size 648x504 with 1 Axes>"
            ],
            "image/png": "[encoded data removed]"
          },
          "metadata": {
            "needs_background": "light"
          }
        },
        {
          "output_type": "display_data",
          "data": {
            "text/plain": [
              "<Figure size 648x504 with 1 Axes>"
            ],
            "image/png": "[encoded data removed]"
          },
          "metadata": {
            "needs_background": "light"
          }
        },
        {
          "output_type": "display_data",
          "data": {
            "text/plain": [
              "<Figure size 648x504 with 1 Axes>"
            ],
            "image/png": "[encoded data removed]"
          },
          "metadata": {
            "needs_background": "light"
          }
        },
        {
          "output_type": "display_data",
          "data": {
            "text/plain": [
              "<Figure size 648x504 with 1 Axes>"
            ],
            "image/png": "[encoded data removed]"
          },
          "metadata": {
            "needs_background": "light"
          }
        },
        {
          "output_type": "display_data",
          "data": {
            "text/plain": [
              "<Figure size 648x504 with 1 Axes>"
            ],
            "image/png": "[encoded data removed]"
          },
          "metadata": {
            "needs_background": "light"
          }
        }
      ]
    },
    {
      "cell_type": "code",
      "source": [],
      "metadata": {
        "id": "jEdaAHWPWsIP"
      },
      "execution_count": 30,
      "outputs": []
    },
    {
      "cell_type": "code",
      "source": [],
      "metadata": {
        "id": "lsve7j8wYcr7"
      },
      "execution_count": 30,
      "outputs": []
    },
    {
      "cell_type": "code",
      "source": [],
      "metadata": {
        "id": "mL-D6nMgYiM1"
      },
      "execution_count": 30,
      "outputs": []
    },
    {
      "cell_type": "code",
      "source": [
        "df.PromoInterval.value_counts()"
      ],
      "metadata": {
        "colab": {
          "base_uri": "https://localhost:8080/"
        },
        "id": "YB2U76okYuGh",
        "outputId": "b9543521-30fb-4f84-b4ae-9a7ffb994c2f"
      },
      "execution_count": 18,
      "outputs": [
        {
          "output_type": "execute_result",
          "data": {
            "text/plain": [
              "Jan,Apr,Jul,Oct     879\n",
              "Feb,May,Aug,Nov     130\n",
              "Mar,Jun,Sept,Dec    106\n",
              "Name: PromoInterval, dtype: int64"
            ]
          },
          "metadata": {},
          "execution_count": 18
        }
      ]
    },
    {
      "cell_type": "code",
      "source": [
        "# df.Promo2.value_counts().plot('bar',color=('C0','C1')).set_title('Promo2') "
      ],
      "metadata": {
        "id": "24SlS8i5Y4ue"
      },
      "execution_count": 1,
      "outputs": []
    },
    {
      "cell_type": "code",
      "source": [
        "df['Promo2'].value_counts()"
      ],
      "metadata": {
        "colab": {
          "base_uri": "https://localhost:8080/"
        },
        "id": "dA1HTgkqZInd",
        "outputId": "0fc1541d-7e46-488e-a82c-af8186fe3748"
      },
      "execution_count": 35,
      "outputs": [
        {
          "output_type": "execute_result",
          "data": {
            "text/plain": [
              "1    571\n",
              "0    544\n",
              "Name: Promo2, dtype: int64"
            ]
          },
          "metadata": {},
          "execution_count": 35
        }
      ]
    },
    {
      "cell_type": "code",
      "source": [
        "# df['Attrition'].value_counts().plot('bar', color=('C0','C1')).set_title('Attrition')"
      ],
      "metadata": {
        "id": "y6uVcDQKbFt6"
      },
      "execution_count": null,
      "outputs": []
    }
  ]
}